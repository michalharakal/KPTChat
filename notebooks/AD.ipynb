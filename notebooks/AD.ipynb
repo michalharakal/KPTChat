{
 "cells": [
  {
   "cell_type": "code",
   "metadata": {
    "collapsed": true,
    "ExecuteTime": {
     "end_time": "2024-04-16T20:42:18.629321Z",
     "start_time": "2024-04-16T20:42:17.980224Z"
    }
   },
   "source": [
    "/*\n",
    " * Implementation of backward-mode automatic differentiation.\n",
    " */\n",
    "\n",
    "/**\n",
    " * Differentiable variable with value and derivative of differentiation ([grad]) result\n",
    " * with respect to this variable.\n",
    " */\n",
    "data class D(var x: Double, var d: Double = 0.0) {\n",
    "    constructor(x: Int): this(x.toDouble())\n",
    "}\n",
    "\n",
    "/**\n",
    " * Runs differentiation and establishes [AD] context inside the block of code.\n",
    " *\n",
    " * Example:\n",
    " * ```\n",
    " * val x = D(2) // define variable(s) and their values\n",
    " * val y = grad { sqr(x) + 5 * x + 3 } // write formulate in grad context\n",
    " * assertEquals(17.0, y.x) // the value of result (y)\n",
    " * assertEquals(9.0, x.d)  // dy/dx\n",
    " * ```\n",
    " */\n",
    "fun grad(body: AD.() -> D): D =\n",
    "    ADImpl().run {\n",
    "        val result = body()\n",
    "        result.d = 1.0 // computing derivative w.r.t result\n",
    "        runBackwardPass()\n",
    "        result\n",
    "    }\n",
    "\n",
    "/**\n",
    " * Automatic Differentiation context class.\n",
    " */\n",
    "abstract class AD {\n",
    "    /**\n",
    "     * Performs update of derivative after the rest of the formula in the back-pass.\n",
    "     *\n",
    "     * For example, implementation of `sin` function is:\n",
    "     *\n",
    "     * ```\n",
    "     * fun AD.sin(x: D): D = derive(D(sin(x.x)) { z -> // call derive with function result\n",
    "     *     x.d += z.d * cos(x.x) // update derivative using chain rule and derivative of the function\n",
    "     * }\n",
    "     * ```\n",
    "     */\n",
    "    abstract fun <R> derive(value: R, block: (R) -> Unit): R\n",
    "\n",
    "    // Basic math (+, -, *, /)\n",
    "\n",
    "    operator fun D.plus(that: D): D = derive(D(this.x + that.x)) { z ->\n",
    "        this.d += z.d\n",
    "        that.d += z.d\n",
    "    }\n",
    "\n",
    "    operator fun D.minus(that: D): D = derive(D(this.x - that.x)) { z ->\n",
    "        this.d += z.d\n",
    "        that.d -= z.d\n",
    "    }\n",
    "\n",
    "    operator fun D.times(that: D): D = derive(D(this.x * that.x)) { z ->\n",
    "        this.d += z.d * that.x\n",
    "        that.d += z.d * this.x\n",
    "    }\n",
    "\n",
    "    operator fun D.div(that: D): D = derive(D(this.x / that.x)) { z ->\n",
    "        this.d += z.d / that.x\n",
    "        that.d -= z.d * this.x / (that.x * that.x)\n",
    "    }\n",
    "\n",
    "    // Overloads for Double constants\n",
    "\n",
    "    operator fun Double.plus(that: D): D = derive(D(this + that.x)) { z ->\n",
    "        that.d += z.d\n",
    "    }\n",
    "\n",
    "    operator fun D.plus(b: Double): D = b.plus(this)\n",
    "\n",
    "    operator fun Double.minus(that: D): D = derive(D(this - that.x)) { z ->\n",
    "        that.d -= z.d\n",
    "    }\n",
    "\n",
    "    operator fun D.minus(that: Double): D = derive(D(this.x - that)) { z ->\n",
    "        this.d += z.d\n",
    "    }\n",
    "\n",
    "    operator fun Double.times(that: D): D = derive(D(this * that.x)) { z ->\n",
    "        that.d += z.d * this\n",
    "    }\n",
    "\n",
    "    operator fun D.times(b: Double): D = b.times(this)\n",
    "\n",
    "    operator fun Double.div(that: D): D = derive(D(this / that.x)) { z ->\n",
    "        that.d -= z.d * this / (that.x * that.x)\n",
    "    }\n",
    "\n",
    "    operator fun D.div(that: Double): D = derive(D(this.x / that)) { z ->\n",
    "        this.d += z.d / that\n",
    "    }\n",
    "\n",
    "    // Overloads for Int constants\n",
    "\n",
    "    operator fun Int.plus(b: D): D = toDouble().plus(b)\n",
    "    operator fun D.plus(b: Int): D = plus(b.toDouble())\n",
    "    operator fun Int.minus(b: D): D = toDouble().minus(b)\n",
    "    operator fun D.minus(b: Int): D = minus(b.toDouble())\n",
    "    operator fun Int.times(b: D): D = toDouble().times(b)\n",
    "    operator fun D.times(b: Int): D = times(b.toDouble())\n",
    "    operator fun Int.div(b: D): D = toDouble().div(b)\n",
    "    operator fun D.div(b: Int): D = div(b.toDouble())\n",
    "}\n",
    "\n",
    "// ---------------------------------------- ENGINE IMPLEMENTATION ----------------------------------------\n",
    "\n",
    "// Private implementation class\n",
    "private class ADImpl : AD() {\n",
    "    // this stack contains pairs of blocks and values to apply them to\n",
    "    private var stack = arrayOfNulls<Any?>(8)\n",
    "    private var sp = 0\n",
    "\n",
    "    @Suppress(\"UNCHECKED_CAST\")\n",
    "    override fun <R> derive(value: R, block: (R) -> Unit): R {\n",
    "        // save block to stack for backward pass\n",
    "        if (sp >= stack.size) stack = stack.copyOf(stack.size * 2)\n",
    "        stack[sp++] = block\n",
    "        stack[sp++] = value\n",
    "        return value\n",
    "    }\n",
    "\n",
    "    @Suppress(\"UNCHECKED_CAST\")\n",
    "    fun runBackwardPass() {\n",
    "        while (sp > 0) {\n",
    "            val value = stack[--sp]\n",
    "            val block = stack[--sp] as (Any?) -> Unit\n",
    "            block(value)\n",
    "        }\n",
    "    }\n",
    "}\n"
   ],
   "outputs": [],
   "execution_count": 1
  },
  {
   "metadata": {
    "ExecuteTime": {
     "end_time": "2024-04-16T20:42:42.502026Z",
     "start_time": "2024-04-16T20:42:42.271512Z"
    }
   },
   "cell_type": "code",
   "source": [
    "import kotlin.math.*\n",
    "\n",
    "// Extensions for differentiation of various basic mathematical functions\n",
    "\n",
    "// x ^ 2\n",
    "fun AD.sqr(x: D): D = derive(D(x.x * x.x)) { z ->\n",
    "    x.d += z.d * 2 * x.x\n",
    "}\n",
    "\n",
    "// x ^ 1/2\n",
    "fun AD.sqrt(x: D): D = derive(D(sqrt(x.x))) { z ->\n",
    "    x.d += z.d * 0.5 / z.x\n",
    "}\n",
    "\n",
    "// x ^ y (const)\n",
    "fun AD.pow(x: D, y: Double): D = derive(D(x.x.pow(y))) { z ->\n",
    "    x.d += z.d * y * x.x.pow(y - 1)\n",
    "}\n",
    "\n",
    "fun AD.pow(x: D, y: Int): D = pow(x, y.toDouble())\n",
    "\n",
    "// exp(x)\n",
    "fun AD.exp(x: D): D = derive(D(exp(x.x))) { z ->\n",
    "    x.d += z.d * z.x\n",
    "}\n",
    "\n",
    "// ln(x)\n",
    "fun AD.ln(x: D): D = derive(D(ln(x.x))) { z ->\n",
    "    x.d += z.d / x.x\n",
    "}\n",
    "\n",
    "// x ^ y (any)\n",
    "fun AD.pow(x: D, y: D): D = exp(y * ln(x))\n",
    "\n",
    "// sin(x)\n",
    "fun AD.sin(x: D): D = derive(D(sin(x.x))) { z ->\n",
    "    x.d += z.d * cos(x.x)\n",
    "}\n",
    "\n",
    "// cos(x)\n",
    "fun AD.cos(x: D): D = derive(D(cos(x.x))) { z ->\n",
    "    x.d -= z.d * sin(x.x)\n",
    "}"
   ],
   "outputs": [],
   "execution_count": 2
  },
  {
   "metadata": {
    "ExecuteTime": {
     "end_time": "2024-04-16T20:43:36.189880Z",
     "start_time": "2024-04-16T20:43:36.074326Z"
    }
   },
   "cell_type": "code",
   "source": [
    "val x = D(PI / 6)\n",
    "val y = grad { sin(x) }\n",
    "y.x // sin(PI/6) = 0.5\n",
    "//assertApprox(0.5, y.x)           //    y = sin(PI/6) = 0.5\n",
    "//assertApprox(sqrt(3.0) / 2, x.d) // dy/dx = cos(PI/6) = sqrt(3)/2"
   ],
   "outputs": [
    {
     "data": {
      "text/plain": [
       "0.49999999999999994"
      ]
     },
     "execution_count": 3,
     "metadata": {},
     "output_type": "execute_result"
    }
   ],
   "execution_count": 3
  },
  {
   "metadata": {
    "ExecuteTime": {
     "end_time": "2024-04-16T20:43:53.658752Z",
     "start_time": "2024-04-16T20:43:53.627205Z"
    }
   },
   "cell_type": "code",
   "source": "x.d",
   "outputs": [
    {
     "data": {
      "text/plain": [
       "0.8660254037844387"
      ]
     },
     "execution_count": 4,
     "metadata": {},
     "output_type": "execute_result"
    }
   ],
   "execution_count": 4
  },
  {
   "metadata": {
    "ExecuteTime": {
     "end_time": "2024-04-16T20:44:18.089650Z",
     "start_time": "2024-04-16T20:44:18.052897Z"
    }
   },
   "cell_type": "code",
   "source": "kotlin.math.cos(PI / 6)",
   "outputs": [
    {
     "data": {
      "text/plain": [
       "0.8660254037844387"
      ]
     },
     "execution_count": 5,
     "metadata": {},
     "output_type": "execute_result"
    }
   ],
   "execution_count": 5
  },
  {
   "metadata": {},
   "cell_type": "code",
   "outputs": [],
   "execution_count": null,
   "source": ""
  }
 ],
 "metadata": {
  "kernelspec": {
   "display_name": "Kotlin",
   "language": "kotlin",
   "name": "kotlin"
  },
  "language_info": {
   "name": "kotlin",
   "version": "1.9.23",
   "mimetype": "text/x-kotlin",
   "file_extension": ".kt",
   "pygments_lexer": "kotlin",
   "codemirror_mode": "text/x-kotlin",
   "nbconvert_exporter": ""
  }
 },
 "nbformat": 4,
 "nbformat_minor": 0
}
